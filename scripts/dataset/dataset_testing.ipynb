{
 "cells": [
  {
   "cell_type": "code",
   "execution_count": 1,
   "id": "22e25b21",
   "metadata": {},
   "outputs": [],
   "source": [
    "import pandas as pd\n",
    "from dataset_fns import Dataset_Accessor, mp_Dataset_Formatter\n",
    "from dataset_functions import Dataset_Formatter\n",
    "from mordred import Calculator, descriptors\n",
    "\n",
    "mp_mk = mp_Dataset_Formatter()\n",
    "mk = Dataset_Formatter()\n",
    " "
   ]
  },
  {
   "cell_type": "code",
   "execution_count": 2,
   "id": "05829f33",
   "metadata": {},
   "outputs": [
    {
     "name": "stdout",
     "output_type": "stream",
     "text": [
      "Making Chunks\n",
      "File open\n",
      "Chunk 1 made (10 lines)...\n",
      "Chunk 2 made (10 lines)...\n",
      "Chunk 3 made (10 lines)...\n",
      "Made 3 chunks\n",
      "Processing chunk 1\n",
      "Empty DataFrame\n",
      "Columns: [ID, Mol, Frag_SMILES, SMILES, Kekulised_SMILES]\n",
      "Index: []\n",
      "Processing chunk 2\n",
      "Empty DataFrame\n",
      "Columns: [ID, Mol, Frag_SMILES, SMILES, Kekulised_SMILES]\n",
      "Index: []\n",
      "Processing chunk 3\n",
      "Empty DataFrame\n",
      "Columns: [ID, Mol, Frag_SMILES, SMILES, Kekulised_SMILES]\n",
      "Index: []\n"
     ]
    }
   ],
   "source": [
    "data = mk.LoadData(mol_dir='/users/yhb18174/Recreating_DMTA/datasets/PyMolGen/raw/',\n",
    "                 filename='exp_test.inchi',\n",
    "                 pymolgen=True,\n",
    "                 prefix='HW-',\n",
    "                 mol_type='smiles',\n",
    "                 chunksize=10,\n",
    "                 retain_ids=False)"
   ]
  },
  {
   "cell_type": "code",
   "execution_count": 3,
   "id": "03e15d85",
   "metadata": {},
   "outputs": [
    {
     "ename": "UnboundLocalError",
     "evalue": "local variable 'traceback' referenced before assignment",
     "output_type": "error",
     "traceback": [
      "\u001b[0;31m---------------------------------------------------------------------------\u001b[0m",
      "\u001b[0;31mRemoteTraceback\u001b[0m                           Traceback (most recent call last)",
      "\u001b[0;31mRemoteTraceback\u001b[0m: \n\"\"\"\nTraceback (most recent call last):\n  File \"/users/yhb18174/Recreating_DMTA/scripts/dataset/dataset_functions.py\", line 537, in _get_descriptors\n    desc = calc(mol)\n  File \"/users/yhb18174/.conda/envs/phd_env/lib/python3.9/site-packages/mordred/_base/calculator.py\", line 289, in __call__\n    mol, self._calculate(Context.from_calculator(self, mol, id))\n  File \"/users/yhb18174/.conda/envs/phd_env/lib/python3.9/site-packages/mordred/_base/context.py\", line 63, in from_calculator\n    return cls.from_query(\n  File \"/users/yhb18174/.conda/envs/phd_env/lib/python3.9/site-packages/mordred/_base/context.py\", line 31, in from_query\n    raise TypeError(\"{!r} is not rdkit.Chem.Mol instance\".format(mol))\nTypeError: [<rdkit.Chem.rdchem.Mol object at 0x14de64c16b80>, <rdkit.Chem.rdchem.Mol object at 0x14de64c16450>, <rdkit.Chem.rdchem.Mol object at 0x14ddff15bbd0>, <rdkit.Chem.rdchem.Mol object at 0x14ddff15bdb0>, None, None, None, None, None, None, None, None, None, None, <rdkit.Chem.rdchem.Mol object at 0x14ddff15bc20>, None, None, None, None, None, None, None, None, None, None, None, None, <rdkit.Chem.rdchem.Mol object at 0x14ddff15ba40>, None, None, None, None, None, None, None, None, None, None, <rdkit.Chem.rdchem.Mol object at 0x14ddff15bd10>, None, None, None, None, None, None, None, None, None, <rdkit.Chem.rdchem.Mol object at 0x14ddff15bef0>, None, <rdkit.Chem.rdchem.Mol object at 0x14ddff15bea0>, None, <rdkit.Chem.rdchem.Mol object at 0x14ddff15bcc0>] is not rdkit.Chem.Mol instance\n\nDuring handling of the above exception, another exception occurred:\n\nTraceback (most recent call last):\n  File \"/users/yhb18174/.conda/envs/phd_env/lib/python3.9/multiprocessing/pool.py\", line 125, in worker\n    result = (True, func(*args, **kwds))\n  File \"/users/yhb18174/.conda/envs/phd_env/lib/python3.9/multiprocessing/pool.py\", line 48, in mapstar\n    return list(map(*args))\n  File \"/users/yhb18174/Recreating_DMTA/scripts/dataset/dataset_functions.py\", line 552, in _get_descriptors_wrapper\n    return self._get_descriptors(*args)\n  File \"/users/yhb18174/Recreating_DMTA/scripts/dataset/dataset_functions.py\", line 543, in _get_descriptors\n    traceback.print_exc()\nUnboundLocalError: local variable 'traceback' referenced before assignment\n\"\"\"",
      "\nThe above exception was the direct cause of the following exception:\n",
      "\u001b[0;31mUnboundLocalError\u001b[0m                         Traceback (most recent call last)",
      "\u001b[1;32m/users/yhb18174/Recreating_DMTA/scripts/dataset/dataset_testing.ipynb Cell 3\u001b[0m line \u001b[0;36m1\n\u001b[0;32m----> <a href='vscode-notebook-cell:/users/yhb18174/Recreating_DMTA/scripts/dataset/dataset_testing.ipynb#W2sZmlsZQ%3D%3D?line=0'>1</a>\u001b[0m x, y \u001b[39m=\u001b[39m mk\u001b[39m.\u001b[39;49mCalcDescriptors(descriptor_set\u001b[39m=\u001b[39;49m\u001b[39m'\u001b[39;49m\u001b[39mMordred\u001b[39;49m\u001b[39m'\u001b[39;49m)\n",
      "File \u001b[0;32m~/Recreating_DMTA/scripts/dataset/dataset_functions.py:669\u001b[0m, in \u001b[0;36mDataset_Formatter.CalcDescriptors\u001b[0;34m(self, df_list, descriptor_set, save_desc_df, save_path, filename)\u001b[0m\n\u001b[1;32m    666\u001b[0m rows \u001b[39m=\u001b[39m tmp_df\u001b[39m.\u001b[39mto_dict(\u001b[39m'\u001b[39m\u001b[39mrecords\u001b[39m\u001b[39m'\u001b[39m)\n\u001b[1;32m    668\u001b[0m \u001b[39mwith\u001b[39;00m Pool() \u001b[39mas\u001b[39;00m pool:\n\u001b[0;32m--> 669\u001b[0m     desc_mp_item \u001b[39m=\u001b[39m pool\u001b[39m.\u001b[39;49mmap(\u001b[39mself\u001b[39;49m\u001b[39m.\u001b[39;49m_get_descriptors_wrapper, [([Chem\u001b[39m.\u001b[39;49mMolFromSmiles(x) \u001b[39mfor\u001b[39;49;00m x \u001b[39min\u001b[39;49;00m row[\u001b[39m'\u001b[39;49m\u001b[39mSMILES\u001b[39;49m\u001b[39m'\u001b[39;49m]], \u001b[39mNone\u001b[39;49;00m, descriptor_set) \u001b[39mfor\u001b[39;49;00m row \u001b[39min\u001b[39;49;00m rows])\n\u001b[1;32m    671\u001b[0m \u001b[39m# Making a new pd.Dataframe with each descriptor as a column, setting the\u001b[39;00m\n\u001b[1;32m    672\u001b[0m \u001b[39m# index to match self.smi_df (or tmp_df)\u001b[39;00m\n\u001b[1;32m    673\u001b[0m tmp_df[\u001b[39m'\u001b[39m\u001b[39mDescriptors\u001b[39m\u001b[39m'\u001b[39m] \u001b[39m=\u001b[39m desc_mp_item\n",
      "File \u001b[0;32m~/.conda/envs/phd_env/lib/python3.9/multiprocessing/pool.py:364\u001b[0m, in \u001b[0;36mPool.map\u001b[0;34m(self, func, iterable, chunksize)\u001b[0m\n\u001b[1;32m    359\u001b[0m \u001b[39mdef\u001b[39;00m \u001b[39mmap\u001b[39m(\u001b[39mself\u001b[39m, func, iterable, chunksize\u001b[39m=\u001b[39m\u001b[39mNone\u001b[39;00m):\n\u001b[1;32m    360\u001b[0m \u001b[39m    \u001b[39m\u001b[39m'''\u001b[39;00m\n\u001b[1;32m    361\u001b[0m \u001b[39m    Apply `func` to each element in `iterable`, collecting the results\u001b[39;00m\n\u001b[1;32m    362\u001b[0m \u001b[39m    in a list that is returned.\u001b[39;00m\n\u001b[1;32m    363\u001b[0m \u001b[39m    '''\u001b[39;00m\n\u001b[0;32m--> 364\u001b[0m     \u001b[39mreturn\u001b[39;00m \u001b[39mself\u001b[39;49m\u001b[39m.\u001b[39;49m_map_async(func, iterable, mapstar, chunksize)\u001b[39m.\u001b[39;49mget()\n",
      "File \u001b[0;32m~/.conda/envs/phd_env/lib/python3.9/multiprocessing/pool.py:771\u001b[0m, in \u001b[0;36mApplyResult.get\u001b[0;34m(self, timeout)\u001b[0m\n\u001b[1;32m    769\u001b[0m     \u001b[39mreturn\u001b[39;00m \u001b[39mself\u001b[39m\u001b[39m.\u001b[39m_value\n\u001b[1;32m    770\u001b[0m \u001b[39melse\u001b[39;00m:\n\u001b[0;32m--> 771\u001b[0m     \u001b[39mraise\u001b[39;00m \u001b[39mself\u001b[39m\u001b[39m.\u001b[39m_value\n",
      "\u001b[0;31mUnboundLocalError\u001b[0m: local variable 'traceback' referenced before assignment"
     ]
    }
   ],
   "source": [
    "x, y = mk.CalcDescriptors(descriptor_set='Mordred')"
   ]
  },
  {
   "cell_type": "code",
   "execution_count": null,
   "id": "840b3b94",
   "metadata": {},
   "outputs": [],
   "source": [
    "filt_df = mp_mk._filter_df()"
   ]
  },
  {
   "cell_type": "code",
   "execution_count": null,
   "id": "5cbab566",
   "metadata": {},
   "outputs": [],
   "source": [
    "full, desc = mp_mk._make_final_chunks(chunksize=10, gen_desc_chunks=True, descriptor_set='Mordred')\n",
    "full"
   ]
  },
  {
   "cell_type": "code",
   "execution_count": null,
   "id": "817ec469",
   "metadata": {},
   "outputs": [],
   "source": [
    "calc = Calculator(descriptors, ignore_3D=True)\n",
    "desc_names = [str(desc) for desc in calc.descriptors]\n",
    "\n",
    "for names in desc_names:\n",
    "    if 'naRing' in names:\n",
    "        print(names)"
   ]
  }
 ],
 "metadata": {
  "kernelspec": {
   "display_name": "PP",
   "language": "python",
   "name": "python3"
  },
  "language_info": {
   "codemirror_mode": {
    "name": "ipython",
    "version": 3
   },
   "file_extension": ".py",
   "mimetype": "text/x-python",
   "name": "python",
   "nbconvert_exporter": "python",
   "pygments_lexer": "ipython3",
   "version": "3.9.7"
  }
 },
 "nbformat": 4,
 "nbformat_minor": 5
}
