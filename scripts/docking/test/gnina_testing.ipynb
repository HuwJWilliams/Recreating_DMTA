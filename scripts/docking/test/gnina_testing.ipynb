{
 "cells": [
  {
   "cell_type": "code",
   "execution_count": 1,
   "id": "18f20fb5",
   "metadata": {},
   "outputs": [
    {
     "name": "stdout",
     "output_type": "stream",
     "text": [
      "license file found: /users/yhb18174/oe_license.txt\n"
     ]
    }
   ],
   "source": [
    "import pandas as pd\n",
    "import sys\n",
    "\n",
    "sys.path.insert(0, '/users/yhb18174/Recreating_DMTA/scripts/docking/')\n",
    "from docking_fns import Run_MP_GNINA\n",
    "\n",
    "df = pd.read_csv('/users/yhb18174/Recreating_DMTA/datasets/ChEMBL/training_data/dock/ChEMBL_docking_df.csv', index_col=False)\n",
    "\n",
    "docking_dir = '/users/yhb18174/Recreating_DMTA/docking/test/'\n",
    "smi_ls = list(df['SMILES'].iloc[:3])\n",
    "molid_ls = list(df['ID'].iloc[:3])"
   ]
  },
  {
   "cell_type": "code",
   "execution_count": 2,
   "id": "1e551e33",
   "metadata": {},
   "outputs": [
    {
     "name": "stdout",
     "output_type": "stream",
     "text": [
      "Attempting to convert to pH 7.4 (OpenEye)\n",
      "Attempting to convert to pH 7.4 (OpenEye)\n",
      "Attempting to convert to pH 7.4 (OpenEye)\n"
     ]
    },
    {
     "data": {
      "text/plain": [
       "['/users/yhb18174/Recreating_DMTA/docking/test/CHEMBL3979343/CHEMBL3979343_pH74.sdf',\n",
       " '/users/yhb18174/Recreating_DMTA/docking/test/CHEMBL4089152/CHEMBL4089152_pH74.sdf',\n",
       " '/users/yhb18174/Recreating_DMTA/docking/test/CHEMBL4084046/CHEMBL4084046_pH74.sdf']"
      ]
     },
     "execution_count": 2,
     "metadata": {},
     "output_type": "execute_result"
    }
   ],
   "source": [
    "mp = Run_MP_GNINA(docking_dir=docking_dir,\n",
    "                  molid_ls=molid_ls,\n",
    "                  smi_ls=smi_ls,\n",
    "                  receptor_path=\"../receptors/4bw1_5_conserved_HOH.pdbqt\")\n",
    "\n",
    "mp._make_ph74_sdfs()"
   ]
  },
  {
   "cell_type": "code",
   "execution_count": 5,
   "id": "899c3da7",
   "metadata": {},
   "outputs": [],
   "source": [
    "old = pd.read_csv('/users/yhb18174/Recreating_DMTA/datasets/ChEMBL/training_data/dock/ChEMBL_docking_df.csv', index_col='ID')"
   ]
  },
  {
   "cell_type": "code",
   "execution_count": 3,
   "id": "12763b22",
   "metadata": {},
   "outputs": [
    {
     "name": "stdout",
     "output_type": "stream",
     "text": [
      "Waiting for the following jobs to complete: 11309466, 11309465                  All docking done\n"
     ]
    },
    {
     "data": {
      "text/plain": [
       "(['CHEMBL3979343', 'CHEMBL4089152', 'CHEMBL4084046'],\n",
       " ['6.501', '6.415', '5.235'])"
      ]
     },
     "execution_count": 3,
     "metadata": {},
     "output_type": "execute_result"
    }
   ],
   "source": [
    "mp._submit_jobs(max_time=2)"
   ]
  },
  {
   "cell_type": "code",
   "execution_count": 6,
   "id": "d70ecc44",
   "metadata": {},
   "outputs": [
    {
     "data": {
      "text/html": [
       "<div>\n",
       "<style scoped>\n",
       "    .dataframe tbody tr th:only-of-type {\n",
       "        vertical-align: middle;\n",
       "    }\n",
       "\n",
       "    .dataframe tbody tr th {\n",
       "        vertical-align: top;\n",
       "    }\n",
       "\n",
       "    .dataframe thead th {\n",
       "        text-align: right;\n",
       "    }\n",
       "</style>\n",
       "<table border=\"1\" class=\"dataframe\">\n",
       "  <thead>\n",
       "    <tr style=\"text-align: right;\">\n",
       "      <th></th>\n",
       "      <th>SMILES</th>\n",
       "      <th>CNN_affinity</th>\n",
       "      <th>Experimental_pIC50</th>\n",
       "    </tr>\n",
       "    <tr>\n",
       "      <th>ID</th>\n",
       "      <th></th>\n",
       "      <th></th>\n",
       "      <th></th>\n",
       "    </tr>\n",
       "  </thead>\n",
       "  <tbody>\n",
       "    <tr>\n",
       "      <th>CHEMBL3979343</th>\n",
       "      <td>Cc1ccc2c(c1)C(=O)N(c3cnc(nc3N2C)Nc4cccc(c4)S(=...</td>\n",
       "      <td>6.590</td>\n",
       "      <td>5.221849</td>\n",
       "    </tr>\n",
       "    <tr>\n",
       "      <th>CHEMBL4089152</th>\n",
       "      <td>CCn1c2c(c(=O)[nH]c1=O)C(C3=C([NH+](CC3=N2)CC=C...</td>\n",
       "      <td>6.685</td>\n",
       "      <td>6.200659</td>\n",
       "    </tr>\n",
       "    <tr>\n",
       "      <th>CHEMBL4084046</th>\n",
       "      <td>CC(=O)C(C(c1ccc(cc1)Cl)c2ccc(cc2)Cl)C(=O)C</td>\n",
       "      <td>5.968</td>\n",
       "      <td>4.560352</td>\n",
       "    </tr>\n",
       "    <tr>\n",
       "      <th>CHEMBL4069010</th>\n",
       "      <td>CC(=O)CC(c1ccccc1)c2c(c3c(cccn3)oc2=O)[O-]</td>\n",
       "      <td>5.718</td>\n",
       "      <td>5.548214</td>\n",
       "    </tr>\n",
       "    <tr>\n",
       "      <th>CHEMBL4071717</th>\n",
       "      <td>CC(=O)N(C)c1ccc(cc1)NC(=O)COc2ccc(cc2Cl)Br</td>\n",
       "      <td>5.543</td>\n",
       "      <td>4.293112</td>\n",
       "    </tr>\n",
       "    <tr>\n",
       "      <th>...</th>\n",
       "      <td>...</td>\n",
       "      <td>...</td>\n",
       "      <td>...</td>\n",
       "    </tr>\n",
       "    <tr>\n",
       "      <th>CHEMBL4069308</th>\n",
       "      <td>c1ccc(cc1)Cc2[nH]c3c(c4c(s3)CCCCC4)c(=O)n2</td>\n",
       "      <td>5.574</td>\n",
       "      <td>6.086186</td>\n",
       "    </tr>\n",
       "    <tr>\n",
       "      <th>CHEMBL1507539</th>\n",
       "      <td>c1ccc2c(c1)c(nn(c2=O)CC3COC4(O3)CCCCC4)O</td>\n",
       "      <td>5.355</td>\n",
       "      <td>4.876148</td>\n",
       "    </tr>\n",
       "    <tr>\n",
       "      <th>CHEMBL188678</th>\n",
       "      <td>c1ccc2c(c1)c3cccc(c3s2)c4cccc5c4oc(cc5=O)N6CCOCC6</td>\n",
       "      <td>6.481</td>\n",
       "      <td>6.000000</td>\n",
       "    </tr>\n",
       "    <tr>\n",
       "      <th>CHEMBL278041</th>\n",
       "      <td>c1cc(ccc1c2[nH]c(c(n2)c3ccc(cc3)F)c4ccncc4)O</td>\n",
       "      <td>6.604</td>\n",
       "      <td>5.602060</td>\n",
       "    </tr>\n",
       "    <tr>\n",
       "      <th>CHEMBL4096140</th>\n",
       "      <td>c1ccc2cc(ccc2c1)c3c4c(con4)c(nn3)c5ccco5</td>\n",
       "      <td>5.744</td>\n",
       "      <td>4.877456</td>\n",
       "    </tr>\n",
       "  </tbody>\n",
       "</table>\n",
       "<p>1054 rows × 3 columns</p>\n",
       "</div>"
      ],
      "text/plain": [
       "                                                          SMILES  \\\n",
       "ID                                                                 \n",
       "CHEMBL3979343  Cc1ccc2c(c1)C(=O)N(c3cnc(nc3N2C)Nc4cccc(c4)S(=...   \n",
       "CHEMBL4089152  CCn1c2c(c(=O)[nH]c1=O)C(C3=C([NH+](CC3=N2)CC=C...   \n",
       "CHEMBL4084046         CC(=O)C(C(c1ccc(cc1)Cl)c2ccc(cc2)Cl)C(=O)C   \n",
       "CHEMBL4069010         CC(=O)CC(c1ccccc1)c2c(c3c(cccn3)oc2=O)[O-]   \n",
       "CHEMBL4071717         CC(=O)N(C)c1ccc(cc1)NC(=O)COc2ccc(cc2Cl)Br   \n",
       "...                                                          ...   \n",
       "CHEMBL4069308         c1ccc(cc1)Cc2[nH]c3c(c4c(s3)CCCCC4)c(=O)n2   \n",
       "CHEMBL1507539           c1ccc2c(c1)c(nn(c2=O)CC3COC4(O3)CCCCC4)O   \n",
       "CHEMBL188678   c1ccc2c(c1)c3cccc(c3s2)c4cccc5c4oc(cc5=O)N6CCOCC6   \n",
       "CHEMBL278041        c1cc(ccc1c2[nH]c(c(n2)c3ccc(cc3)F)c4ccncc4)O   \n",
       "CHEMBL4096140           c1ccc2cc(ccc2c1)c3c4c(con4)c(nn3)c5ccco5   \n",
       "\n",
       "               CNN_affinity  Experimental_pIC50  \n",
       "ID                                               \n",
       "CHEMBL3979343         6.590            5.221849  \n",
       "CHEMBL4089152         6.685            6.200659  \n",
       "CHEMBL4084046         5.968            4.560352  \n",
       "CHEMBL4069010         5.718            5.548214  \n",
       "CHEMBL4071717         5.543            4.293112  \n",
       "...                     ...                 ...  \n",
       "CHEMBL4069308         5.574            6.086186  \n",
       "CHEMBL1507539         5.355            4.876148  \n",
       "CHEMBL188678          6.481            6.000000  \n",
       "CHEMBL278041          6.604            5.602060  \n",
       "CHEMBL4096140         5.744            4.877456  \n",
       "\n",
       "[1054 rows x 3 columns]"
      ]
     },
     "execution_count": 6,
     "metadata": {},
     "output_type": "execute_result"
    }
   ],
   "source": [
    "old"
   ]
  },
  {
   "cell_type": "code",
   "execution_count": 10,
   "id": "85cd3c05",
   "metadata": {},
   "outputs": [],
   "source": [
    "new = pd.read_csv('/users/yhb18174/Recreating_DMTA/datasets/ChEMBL/training_data/comp_ChEMBL_docking_df.csv', index_col='ID')"
   ]
  },
  {
   "cell_type": "code",
   "execution_count": 17,
   "id": "406efc06",
   "metadata": {},
   "outputs": [],
   "source": [
    "new.to_csv('/users/yhb18174/Recreating_DMTA/datasets/ChEMBL/training_data/dock/ChEMBL_docking_smi.csv', index='ID')"
   ]
  }
 ],
 "metadata": {
  "kernelspec": {
   "display_name": "PP",
   "language": "python",
   "name": "python3"
  },
  "language_info": {
   "codemirror_mode": {
    "name": "ipython",
    "version": 3
   },
   "file_extension": ".py",
   "mimetype": "text/x-python",
   "name": "python",
   "nbconvert_exporter": "python",
   "pygments_lexer": "ipython3",
   "version": "3.7.7"
  }
 },
 "nbformat": 4,
 "nbformat_minor": 5
}
