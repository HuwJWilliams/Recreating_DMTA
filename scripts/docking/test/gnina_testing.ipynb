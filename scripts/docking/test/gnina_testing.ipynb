{
 "cells": [
  {
   "cell_type": "code",
   "execution_count": 1,
   "id": "18f20fb5",
   "metadata": {},
   "outputs": [],
   "source": [
    "import pandas as pd\n",
    "import sys\n",
    "\n",
    "sys.path.insert(0, '/users/yhb18174/Recreating_DMTA/scripts/docking/')\n",
    "from docking_fns import GNINA_fns, Run_MP_GNINA"
   ]
  },
  {
   "cell_type": "code",
   "execution_count": 7,
   "id": "965d2a45",
   "metadata": {},
   "outputs": [],
   "source": [
    "df = pd.read_csv('/users/yhb18174/Recreating_DMTA/datasets/ChEMBL/training_data/ChEMBL_docking_df.csv', index_col=False)\n",
    "\n",
    "docking_dir = '/users/yhb18174/Recreating_DMTA/docking/ChEMBL/'\n",
    "smi_ls = list(df['SMILES'])\n",
    "molid_ls = list(df['ID'])"
   ]
  },
  {
   "cell_type": "code",
   "execution_count": 3,
   "id": "1e551e33",
   "metadata": {},
   "outputs": [
    {
     "name": "stdout",
     "output_type": "stream",
     "text": [
      "Making molecule directory\n",
      "Making molecule directory\n",
      "Making molecule directory\n"
     ]
    }
   ],
   "source": [
    "mp = Run_MP_GNINA(docking_dir=docking_dir,\n",
    "                  molid_ls=molid_ls,\n",
    "                  smi_ls=smi_ls,\n",
    "                  receptor_path=\"../receptors/4bw1_5_conserved_HOH.pdbqt\")"
   ]
  },
  {
   "cell_type": "code",
   "execution_count": 4,
   "id": "80179027",
   "metadata": {},
   "outputs": [
    {
     "data": {
      "text/plain": [
       "['/users/yhb18174/Recreating_DMTA/scripts/docking/test/CHEMBL3979343/CHEMBL3979343.sdf',\n",
       " '/users/yhb18174/Recreating_DMTA/scripts/docking/test/CHEMBL4089152/CHEMBL4089152.sdf',\n",
       " '/users/yhb18174/Recreating_DMTA/scripts/docking/test/CHEMBL4084046/CHEMBL4084046.sdf']"
      ]
     },
     "execution_count": 4,
     "metadata": {},
     "output_type": "execute_result"
    }
   ],
   "source": [
    "mp._make_sdfs()"
   ]
  },
  {
   "cell_type": "code",
   "execution_count": 5,
   "id": "eeae5070",
   "metadata": {},
   "outputs": [
    {
     "name": "stdout",
     "output_type": "stream",
     "text": [
      "Waiting on the following jobs to complete: 11306430                             All docking done\n"
     ]
    },
    {
     "name": "stderr",
     "output_type": "stream",
     "text": [
      "tar: Removing leading `/' from member names\n",
      "tar: Removing leading `/' from member names\n",
      "tar: Removing leading `/' from member names\n"
     ]
    },
    {
     "data": {
      "text/plain": [
       "(['CHEMBL3979343', 'CHEMBL4089152', 'CHEMBL4084046'],\n",
       " ['6.609', '6.694', '5.947'])"
      ]
     },
     "execution_count": 5,
     "metadata": {},
     "output_type": "execute_result"
    }
   ],
   "source": [
    "ids, scores = mp._submit_jobs(max_time=1)"
   ]
  },
  {
   "cell_type": "code",
   "execution_count": null,
   "id": "af0c466d",
   "metadata": {},
   "outputs": [],
   "source": [
    "df['affinity_exp'] = scores"
   ]
  }
 ],
 "metadata": {
  "kernelspec": {
   "display_name": "PP",
   "language": "python",
   "name": "python3"
  },
  "language_info": {
   "codemirror_mode": {
    "name": "ipython",
    "version": 3
   },
   "file_extension": ".py",
   "mimetype": "text/x-python",
   "name": "python",
   "nbconvert_exporter": "python",
   "pygments_lexer": "ipython3",
   "version": "3.7.7"
  }
 },
 "nbformat": 4,
 "nbformat_minor": 5
}
