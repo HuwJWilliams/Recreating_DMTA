{
 "cells": [
  {
   "cell_type": "code",
   "execution_count": 1,
   "id": "18f20fb5",
   "metadata": {},
   "outputs": [
    {
     "name": "stdout",
     "output_type": "stream",
     "text": [
      "license file found: /users/yhb18174/oe_license.txt\n"
     ]
    }
   ],
   "source": [
    "import pandas as pd\n",
    "import sys\n",
    "# Import Openeye Modules\n",
    "from openeye import oechem\n",
    "from openeye import oeomega\n",
    "from openeye import oequacpac\n",
    "from rdkit import Chem\n",
    "\n",
    "sys.path.insert(0, '/users/yhb18174/Recreating_DMTA/scripts/docking/')\n",
    "from docking_fns import GNINA_fns, Run_MP_GNINA"
   ]
  },
  {
   "cell_type": "code",
   "execution_count": 2,
   "id": "965d2a45",
   "metadata": {},
   "outputs": [],
   "source": [
    "df = pd.read_csv('/users/yhb18174/Recreating_DMTA/datasets/ChEMBL/training_data/dock/ChEMBL_docking_df.csv', index_col=False)\n",
    "\n",
    "docking_dir = '/users/yhb18174/Recreating_DMTA/docking/test/'\n",
    "smi_ls = list(df['SMILES'].iloc[:3])\n",
    "molid_ls = list(df['ID'].iloc[:3])"
   ]
  },
  {
   "cell_type": "code",
   "execution_count": 3,
   "id": "1e551e33",
   "metadata": {},
   "outputs": [
    {
     "name": "stdout",
     "output_type": "stream",
     "text": [
      "/users/yhb18174/Recreating_DMTA/docking/test/CHEMBL3979343/ exists\n",
      "/users/yhb18174/Recreating_DMTA/docking/test/CHEMBL4089152/ exists\n",
      "/users/yhb18174/Recreating_DMTA/docking/test/CHEMBL4084046/ exists\n"
     ]
    }
   ],
   "source": [
    "mp = Run_MP_GNINA(docking_dir=docking_dir,\n",
    "                  molid_ls=molid_ls,\n",
    "                  smi_ls=smi_ls,\n",
    "                  receptor_path=\"../receptors/4bw1_5_conserved_HOH.pdbqt\")"
   ]
  },
  {
   "cell_type": "code",
   "execution_count": 4,
   "id": "84c01b14",
   "metadata": {},
   "outputs": [
    {
     "ename": "ValueError",
     "evalue": "not enough values to unpack (expected 3, got 2)",
     "output_type": "error",
     "traceback": [
      "\u001b[0;31m---------------------------------------------------------------------------\u001b[0m",
      "\u001b[0;31mValueError\u001b[0m                                Traceback (most recent call last)",
      "\u001b[0;32m/tmp/ipykernel_358741/1549342139.py\u001b[0m in \u001b[0;36m<module>\u001b[0;34m\u001b[0m\n\u001b[0;32m----> 1\u001b[0;31m \u001b[0mmp\u001b[0m\u001b[0;34m.\u001b[0m\u001b[0mOEGenConfs\u001b[0m\u001b[0;34m(\u001b[0m\u001b[0msmi_ls\u001b[0m\u001b[0;34m,\u001b[0m \u001b[0mmolid_ls\u001b[0m\u001b[0;34m)\u001b[0m\u001b[0;34m\u001b[0m\u001b[0;34m\u001b[0m\u001b[0m\n\u001b[0m",
      "\u001b[0;32m~/Recreating_DMTA/scripts/docking/docking_fns.py\u001b[0m in \u001b[0;36mOEGenConfs\u001b[0;34m(self, tauto_sp23, ph, torsion_drive, box_cen)\u001b[0m\n\u001b[1;32m    700\u001b[0m \u001b[0;34m\u001b[0m\u001b[0m\n\u001b[1;32m    701\u001b[0m         \u001b[0;31m# ligand_prefix = ligand_mol_fpath[:-4]\u001b[0m\u001b[0;34m\u001b[0m\u001b[0;34m\u001b[0m\u001b[0;34m\u001b[0m\u001b[0m\n\u001b[0;32m--> 702\u001b[0;31m         \u001b[0;32mfor\u001b[0m \u001b[0msmi\u001b[0m\u001b[0;34m,\u001b[0m \u001b[0mmolid\u001b[0m\u001b[0;34m,\u001b[0m \u001b[0mmol_dir\u001b[0m \u001b[0;32min\u001b[0m \u001b[0mzip\u001b[0m\u001b[0;34m(\u001b[0m\u001b[0mself\u001b[0m\u001b[0;34m.\u001b[0m\u001b[0msmi_ls\u001b[0m\u001b[0;34m,\u001b[0m \u001b[0mself\u001b[0m\u001b[0;34m.\u001b[0m\u001b[0mmolid_ls\u001b[0m\u001b[0;34m)\u001b[0m\u001b[0;34m:\u001b[0m\u001b[0;34m\u001b[0m\u001b[0;34m\u001b[0m\u001b[0m\n\u001b[0m\u001b[1;32m    703\u001b[0m             \u001b[0mself\u001b[0m\u001b[0;34m.\u001b[0m\u001b[0m_mol_prep\u001b[0m\u001b[0;34m(\u001b[0m\u001b[0msmi\u001b[0m\u001b[0;34m,\u001b[0m \u001b[0mmolid\u001b[0m\u001b[0;34m,\u001b[0m \u001b[0mmol_dir\u001b[0m\u001b[0;34m,\u001b[0m \u001b[0mph\u001b[0m\u001b[0;34m)\u001b[0m\u001b[0;34m\u001b[0m\u001b[0;34m\u001b[0m\u001b[0m\n\u001b[1;32m    704\u001b[0m             \u001b[0mself\u001b[0m\u001b[0;34m.\u001b[0m\u001b[0m_oe_conformer_generation\u001b[0m\u001b[0;34m(\u001b[0m\u001b[0mmolid\u001b[0m\u001b[0;34m,\u001b[0m \u001b[0mmol_dir\u001b[0m\u001b[0;34m,\u001b[0m \u001b[0mtauto_sp23\u001b[0m\u001b[0;34m=\u001b[0m\u001b[0mtauto_sp23\u001b[0m\u001b[0;34m,\u001b[0m \u001b[0mtorsion_drive\u001b[0m\u001b[0;34m=\u001b[0m\u001b[0mtorsion_drive\u001b[0m\u001b[0;34m,\u001b[0m \u001b[0mbox_cen\u001b[0m\u001b[0;34m=\u001b[0m\u001b[0mbox_cen\u001b[0m\u001b[0;34m)\u001b[0m\u001b[0;34m\u001b[0m\u001b[0;34m\u001b[0m\u001b[0m\n",
      "\u001b[0;31mValueError\u001b[0m: not enough values to unpack (expected 3, got 2)"
     ]
    }
   ],
   "source": [
    "mp._mak"
   ]
  }
 ],
 "metadata": {
  "kernelspec": {
   "display_name": "PP",
   "language": "python",
   "name": "python3"
  },
  "language_info": {
   "codemirror_mode": {
    "name": "ipython",
    "version": 3
   },
   "file_extension": ".py",
   "mimetype": "text/x-python",
   "name": "python",
   "nbconvert_exporter": "python",
   "pygments_lexer": "ipython3",
   "version": "3.7.7"
  }
 },
 "nbformat": 4,
 "nbformat_minor": 5
}
