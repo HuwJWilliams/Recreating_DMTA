{
 "cells": [
  {
   "cell_type": "code",
   "execution_count": 2,
   "id": "0c1532c8",
   "metadata": {},
   "outputs": [
    {
     "ename": "SyntaxError",
     "evalue": "invalid syntax (workflow_class.py, line 42)",
     "output_type": "error",
     "traceback": [
      "Traceback \u001b[0;36m(most recent call last)\u001b[0m:\n",
      "\u001b[0m  File \u001b[1;32m~/.conda/envs/phd_env/lib/python3.9/site-packages/IPython/core/interactiveshell.py:3505\u001b[0m in \u001b[1;35mrun_code\u001b[0m\n    exec(code_obj, self.user_global_ns, self.user_ns)\u001b[0m\n",
      "\u001b[0;36m  Cell \u001b[0;32mIn[2], line 1\u001b[0;36m\n\u001b[0;31m    from workflow_class import RecDMTA\u001b[0;36m\n",
      "\u001b[0;36m  File \u001b[0;32m~/Recreating_DMTA/scripts/run/workflow_class.py:42\u001b[0;36m\u001b[0m\n\u001b[0;31m    class RecDMTA:\u001b[0m\n\u001b[0m    ^\u001b[0m\n\u001b[0;31mSyntaxError\u001b[0m\u001b[0;31m:\u001b[0m invalid syntax\n"
     ]
    }
   ],
   "source": [
    "from workflow_class import RecDMTA\n",
    "import sys\n",
    "sys.path.insert(0, '/users/yhb18174/Recreating_DMTA/scripts/models/')\n",
    "from RF_class import RF_model\n",
    "import pandas as pd\n"
   ]
  },
  {
   "cell_type": "code",
   "execution_count": 2,
   "id": "0c852b7f",
   "metadata": {},
   "outputs": [],
   "source": [
    "full_data_fpath = \"/users/yhb18174/Recreating_DMTA/datasets/test_data/\"\n",
    "full_data_fprefix = \"PMG_rdkit_*.csv\"\n",
    "desc_fpath= \"/users/yhb18174/Recreating_DMTA/datasets/test_data/\"\n",
    "desc_fprefix = \"PMG_rdkit_desc_*.csv\"\n",
    "start_iter = 1\n",
    "total_iters = 3\n",
    "n_cmpds = 10\n",
    "\n",
    "docking_dir = \"/users/yhb18174/Recreating_DMTA/datasets/test_data/\"\n",
    "results_dir =  \"/users/yhb18174/Recreating_DMTA/results/test/\"\n",
    "init_model_dir = '/users/yhb18174/Recreating_DMTA/results/rdkit_desc/init_RF_model/it0/'\n",
    "run_name = 'test_1'\n",
    "chosen_mol_file = results_dir + run_name +'/chosen_mol.csv'\n",
    "selection_method = 'mp'\n",
    "id_prefix='PMG-',\n",
    "docking_column=\"CNN_affinity\"\n",
    "docking_score_files = 'PMG_docking_*.csv'"
   ]
  },
  {
   "cell_type": "code",
   "execution_count": 3,
   "id": "f5ae30f9",
   "metadata": {},
   "outputs": [],
   "source": [
    "run = RecDMTA(full_data_fpath=full_data_fpath,\n",
    "              full_data_fprefix=full_data_fprefix,\n",
    "              desc_fpath=desc_fpath,\n",
    "              desc_fprefix=desc_fprefix,\n",
    "              start_iter=start_iter,\n",
    "              total_iters=total_iters,\n",
    "              n_cmpds=n_cmpds,\n",
    "              docking_dir=docking_dir,\n",
    "              results_dir=results_dir,\n",
    "              init_model_dir=init_model_dir,\n",
    "              chosen_mol_file=chosen_mol_file,\n",
    "              selection_method=selection_method,\n",
    "              docking_score_files=docking_score_files,\n",
    "              run_name=run_name,\n",
    "              max_confs=1)"
   ]
  },
  {
   "cell_type": "code",
   "execution_count": 4,
   "id": "5c0aedff",
   "metadata": {},
   "outputs": [
    {
     "name": "stdout",
     "output_type": "stream",
     "text": [
      "Running with 40 CPUs\n",
      "\n",
      "+===========Iteration: 1===========+\n",
      "\n",
      "+-----------+----------+\n",
      "|     ID    | batch_no |\n",
      "+-----------+----------+\n",
      "| PMG-29046 |    1     |\n",
      "| PMG-48171 |    1     |\n",
      "| PMG-61312 |    1     |\n",
      "| PMG-31056 |    1     |\n",
      "|  PMG-2808 |    1     |\n",
      "| PMG-66087 |    1     |\n",
      "| PMG-56373 |    1     |\n",
      "| PMG-69605 |    1     |\n",
      "| PMG-31895 |    1     |\n",
      "| PMG-27063 |    1     |\n",
      "+-----------+----------+\n",
      "+----------- Docking Batch 1 IDs -----------+\n",
      "\n",
      "/users/yhb18174/Recreating_DMTA/datasets/test_data/PMG_docking_1.csv\n",
      "Status of IDs in batch:\n",
      "ID\n",
      "PMG-29046      NaN\n",
      "PMG-48171      NaN\n",
      "PMG-61312      NaN\n",
      "PMG-31056    7.508\n",
      "PMG-2808       NaN\n",
      "PMG-66087      NaN\n",
      "PMG-56373      NaN\n",
      "PMG-69605      NaN\n",
      "PMG-31895      NaN\n",
      "PMG-27063    7.296\n",
      "Name: CNN_affinity, dtype: float64\n",
      "File PMG_docking_1.dock renamed back to PMG_docking_1\n",
      "Random Seed:ompounds: PMG-29046, PMG-48171, PMG-61312, PMG-2808, PMG-66087, PMG-56373, PMG-69605, PMG-31895\n",
      "1048957263\n",
      "/users/yhb18174/Recreating_DMTA/datasets/test_data/PMG-29046/ exists\n",
      "/users/yhb18174/Recreating_DMTA/datasets/test_data/PMG-48171/ exists\n",
      "/users/yhb18174/Recreating_DMTA/datasets/test_data/PMG-61312/ exists\n",
      "/users/yhb18174/Recreating_DMTA/datasets/test_data/PMG-2808/ exists\n",
      "/users/yhb18174/Recreating_DMTA/datasets/test_data/PMG-66087/ exists\n",
      "/users/yhb18174/Recreating_DMTA/datasets/test_data/PMG-56373/ exists\n",
      "/users/yhb18174/Recreating_DMTA/datasets/test_data/PMG-69605/ exists\n",
      "/users/yhb18174/Recreating_DMTA/datasets/test_data/PMG-31895/ exists\n"
     ]
    },
    {
     "name": "stderr",
     "output_type": "stream",
     "text": [
      "Warning: This force field is incompatible with GPU-Omega: GPU-Omega disabled.\n",
      "To run on the GPU with dense mode set the force field to mmff94smod_NoEstat.\n",
      "Warning: This force field is incompatible with GPU-Omega: GPU-Omega disabled.\n",
      "To run on the GPU with dense mode set the force field to mmff94smod_NoEstat.\n",
      "Warning: This force field is incompatible with GPU-Omega: GPU-Omega disabled.\n",
      "To run on the GPU with dense mode set the force field to mmff94smod_NoEstat.\n",
      "Warning: This force field is incompatible with GPU-Omega: GPU-Omega disabled.\n",
      "To run on the GPU with dense mode set the force field to mmff94smod_NoEstat.\n",
      "Warning: This force field is incompatible with GPU-Omega: GPU-Omega disabled.\n",
      "To run on the GPU with dense mode set the force field to mmff94smod_NoEstat.\n",
      "Warning: This force field is incompatible with GPU-Omega: GPU-Omega disabled.\n",
      "To run on the GPU with dense mode set the force field to mmff94smod_NoEstat.\n",
      "Warning: This force field is incompatible with GPU-Omega: GPU-Omega disabled.\n",
      "To run on the GPU with dense mode set the force field to mmff94smod_NoEstat.\n",
      "Warning: This force field is incompatible with GPU-Omega: GPU-Omega disabled.\n",
      "To run on the GPU with dense mode set the force field to mmff94smod_NoEstat.\n"
     ]
    },
    {
     "name": "stdout",
     "output_type": "stream",
     "text": [
      "Waiting for the following jobs to complete: 11340338                            38, 11340337, 11340334, 11340334, 11340334All docking done\n",
      "File PMG_docking_1.dock renamed back to PMG_docking_1\n",
      "All docking scores present\n",
      "Performing resample 13\n",
      "Performing resample 21\n",
      "Performing resample 11\n",
      "Performing resample 33\n",
      "Performing resample 1\n",
      "Performing resample 25\n",
      "Performing resample 31\n",
      "Performing resample 5\n",
      "Performing resample 15\n",
      "Performing resample 41\n",
      "Performing resample 23\n",
      "Performing resample 9\n",
      "Performing resample 27\n",
      "Performing resample 7\n",
      "Performing resample 47\n",
      "Performing resample 3\n",
      "Performing resample 17\n",
      "Performing resample 49\n",
      "Performing resample 37\n",
      "Performing resample 45\n",
      "Performing resample 19\n",
      "Performing resample 43\n",
      "Performing resample 35\n",
      "Performing resample 39\n",
      "Performing resample 29\n"
     ]
    },
    {
     "name": "stderr",
     "output_type": "stream",
     "text": [
      "/users/yhb18174/.conda/envs/phd_env/lib/python3.9/site-packages/sklearn/base.py:486: UserWarning: X has feature names, but RandomForestRegressor was fitted without feature names\n",
      "  warnings.warn(\n",
      "/users/yhb18174/.conda/envs/phd_env/lib/python3.9/site-packages/sklearn/base.py:486: UserWarning: X has feature names, but RandomForestRegressor was fitted without feature names\n",
      "  warnings.warn(\n",
      "/users/yhb18174/.conda/envs/phd_env/lib/python3.9/site-packages/sklearn/base.py:486: UserWarning: X has feature names, but RandomForestRegressor was fitted without feature names\n",
      "  warnings.warn(\n",
      "/users/yhb18174/.conda/envs/phd_env/lib/python3.9/site-packages/sklearn/base.py:486: UserWarning: X has feature names, but RandomForestRegressor was fitted without feature names\n",
      "  warnings.warn(\n",
      "/users/yhb18174/.conda/envs/phd_env/lib/python3.9/site-packages/sklearn/base.py:486: UserWarning: X has feature names, but RandomForestRegressor was fitted without feature names\n",
      "  warnings.warn(\n",
      "/users/yhb18174/.conda/envs/phd_env/lib/python3.9/site-packages/sklearn/base.py:486: UserWarning: X has feature names, but RandomForestRegressor was fitted without feature names\n",
      "  warnings.warn(\n",
      "/users/yhb18174/.conda/envs/phd_env/lib/python3.9/site-packages/sklearn/base.py:486: UserWarning: X has feature names, but RandomForestRegressor was fitted without feature names\n",
      "  warnings.warn(\n",
      "/users/yhb18174/.conda/envs/phd_env/lib/python3.9/site-packages/sklearn/base.py:486: UserWarning: X has feature names, but RandomForestRegressor was fitted without feature names\n",
      "  warnings.warn(\n",
      "/users/yhb18174/.conda/envs/phd_env/lib/python3.9/site-packages/sklearn/base.py:486: UserWarning: X has feature names, but RandomForestRegressor was fitted without feature names\n",
      "  warnings.warn(\n",
      "/users/yhb18174/.conda/envs/phd_env/lib/python3.9/site-packages/sklearn/base.py:486: UserWarning: X has feature names, but RandomForestRegressor was fitted without feature names\n",
      "  warnings.warn(\n",
      "/users/yhb18174/.conda/envs/phd_env/lib/python3.9/site-packages/sklearn/base.py:486: UserWarning: X has feature names, but RandomForestRegressor was fitted without feature names\n",
      "  warnings.warn(\n",
      "/users/yhb18174/.conda/envs/phd_env/lib/python3.9/site-packages/sklearn/base.py:486: UserWarning: X has feature names, but RandomForestRegressor was fitted without feature names\n",
      "  warnings.warn(\n",
      "/users/yhb18174/.conda/envs/phd_env/lib/python3.9/site-packages/sklearn/base.py:486: UserWarning: X has feature names, but RandomForestRegressor was fitted without feature names\n",
      "  warnings.warn(\n",
      "/users/yhb18174/.conda/envs/phd_env/lib/python3.9/site-packages/sklearn/base.py:486: UserWarning: X has feature names, but RandomForestRegressor was fitted without feature names\n",
      "  warnings.warn(\n",
      "/users/yhb18174/.conda/envs/phd_env/lib/python3.9/site-packages/sklearn/base.py:486: UserWarning: X has feature names, but RandomForestRegressor was fitted without feature names\n",
      "  warnings.warn(\n",
      "/users/yhb18174/.conda/envs/phd_env/lib/python3.9/site-packages/sklearn/base.py:486: UserWarning: X has feature names, but RandomForestRegressor was fitted without feature names\n",
      "  warnings.warn(\n",
      "/users/yhb18174/.conda/envs/phd_env/lib/python3.9/site-packages/sklearn/base.py:486: UserWarning: X has feature names, but RandomForestRegressor was fitted without feature names\n",
      "  warnings.warn(\n",
      "/users/yhb18174/.conda/envs/phd_env/lib/python3.9/site-packages/sklearn/base.py:486: UserWarning: X has feature names, but RandomForestRegressor was fitted without feature names\n",
      "  warnings.warn(\n",
      "/users/yhb18174/.conda/envs/phd_env/lib/python3.9/site-packages/sklearn/base.py:486: UserWarning: X has feature names, but RandomForestRegressor was fitted without feature names\n",
      "  warnings.warn(\n"
     ]
    },
    {
     "name": "stdout",
     "output_type": "stream",
     "text": [
      "Performing resample 10\n",
      "Performing resample 2\n",
      "Performing resample 38\n",
      "Performing resample 14\n",
      "Performing resample 22\n",
      "Performing resample 24\n"
     ]
    },
    {
     "name": "stderr",
     "output_type": "stream",
     "text": [
      "/users/yhb18174/.conda/envs/phd_env/lib/python3.9/site-packages/sklearn/base.py:486: UserWarning: X has feature names, but RandomForestRegressor was fitted without feature names\n",
      "  warnings.warn(\n"
     ]
    },
    {
     "name": "stdout",
     "output_type": "stream",
     "text": [
      "Performing resample 26\n",
      "Performing resample 16\n",
      "Performing resample 44\n",
      "Performing resample 6\n",
      "Performing resample 4\n",
      "Performing resample 8\n",
      "Performing resample 18\n"
     ]
    },
    {
     "name": "stderr",
     "output_type": "stream",
     "text": [
      "/users/yhb18174/.conda/envs/phd_env/lib/python3.9/site-packages/sklearn/base.py:486: UserWarning: X has feature names, but RandomForestRegressor was fitted without feature names\n",
      "  warnings.warn(\n",
      "/users/yhb18174/.conda/envs/phd_env/lib/python3.9/site-packages/sklearn/base.py:486: UserWarning: X has feature names, but RandomForestRegressor was fitted without feature names\n",
      "  warnings.warn(\n"
     ]
    },
    {
     "name": "stdout",
     "output_type": "stream",
     "text": [
      "Performing resample 34\n",
      "Performing resample 46\n",
      "Performing resample 20\n",
      "Performing resample 36\n",
      "Performing resample 30\n",
      "Performing resample 28\n"
     ]
    },
    {
     "name": "stderr",
     "output_type": "stream",
     "text": [
      "/users/yhb18174/.conda/envs/phd_env/lib/python3.9/site-packages/sklearn/base.py:486: UserWarning: X has feature names, but RandomForestRegressor was fitted without feature names\n",
      "  warnings.warn(\n",
      "/users/yhb18174/.conda/envs/phd_env/lib/python3.9/site-packages/sklearn/base.py:486: UserWarning: X has feature names, but RandomForestRegressor was fitted without feature names\n",
      "  warnings.warn(\n",
      "/users/yhb18174/.conda/envs/phd_env/lib/python3.9/site-packages/sklearn/base.py:486: UserWarning: X has feature names, but RandomForestRegressor was fitted without feature names\n",
      "  warnings.warn(\n"
     ]
    },
    {
     "name": "stdout",
     "output_type": "stream",
     "text": [
      "Performing resample 40\n",
      "Performing resample 42\n"
     ]
    },
    {
     "name": "stderr",
     "output_type": "stream",
     "text": [
      "/users/yhb18174/.conda/envs/phd_env/lib/python3.9/site-packages/sklearn/base.py:486: UserWarning: X has feature names, but RandomForestRegressor was fitted without feature names\n",
      "  warnings.warn(\n",
      "/users/yhb18174/.conda/envs/phd_env/lib/python3.9/site-packages/sklearn/base.py:486: UserWarning: X has feature names, but RandomForestRegressor was fitted without feature names\n",
      "  warnings.warn(\n",
      "/users/yhb18174/.conda/envs/phd_env/lib/python3.9/site-packages/sklearn/base.py:486: UserWarning: X has feature names, but RandomForestRegressor was fitted without feature names\n",
      "  warnings.warn(\n",
      "/users/yhb18174/.conda/envs/phd_env/lib/python3.9/site-packages/sklearn/base.py:486: UserWarning: X has feature names, but RandomForestRegressor was fitted without feature names\n",
      "  warnings.warn(\n"
     ]
    },
    {
     "name": "stdout",
     "output_type": "stream",
     "text": [
      "Performing resample 12\n"
     ]
    },
    {
     "name": "stderr",
     "output_type": "stream",
     "text": [
      "/users/yhb18174/.conda/envs/phd_env/lib/python3.9/site-packages/sklearn/base.py:486: UserWarning: X has feature names, but RandomForestRegressor was fitted without feature names\n",
      "  warnings.warn(\n",
      "/users/yhb18174/.conda/envs/phd_env/lib/python3.9/site-packages/sklearn/base.py:486: UserWarning: X has feature names, but RandomForestRegressor was fitted without feature names\n",
      "  warnings.warn(\n",
      "/users/yhb18174/.conda/envs/phd_env/lib/python3.9/site-packages/sklearn/base.py:486: UserWarning: X has feature names, but RandomForestRegressor was fitted without feature names\n",
      "  warnings.warn(\n",
      "/users/yhb18174/.conda/envs/phd_env/lib/python3.9/site-packages/sklearn/base.py:486: UserWarning: X has feature names, but RandomForestRegressor was fitted without feature names\n",
      "  warnings.warn(\n",
      "/users/yhb18174/.conda/envs/phd_env/lib/python3.9/site-packages/sklearn/base.py:486: UserWarning: X has feature names, but RandomForestRegressor was fitted without feature names\n",
      "  warnings.warn(\n",
      "/users/yhb18174/.conda/envs/phd_env/lib/python3.9/site-packages/sklearn/base.py:486: UserWarning: X has feature names, but RandomForestRegressor was fitted without feature names\n",
      "  warnings.warn(\n",
      "/users/yhb18174/.conda/envs/phd_env/lib/python3.9/site-packages/sklearn/base.py:486: UserWarning: X has feature names, but RandomForestRegressor was fitted without feature names\n",
      "  warnings.warn(\n",
      "/users/yhb18174/.conda/envs/phd_env/lib/python3.9/site-packages/sklearn/base.py:486: UserWarning: X has feature names, but RandomForestRegressor was fitted without feature names\n",
      "  warnings.warn(\n",
      "/users/yhb18174/.conda/envs/phd_env/lib/python3.9/site-packages/sklearn/base.py:486: UserWarning: X has feature names, but RandomForestRegressor was fitted without feature names\n",
      "  warnings.warn(\n",
      "/users/yhb18174/.conda/envs/phd_env/lib/python3.9/site-packages/sklearn/base.py:486: UserWarning: X has feature names, but RandomForestRegressor was fitted without feature names\n",
      "  warnings.warn(\n",
      "/users/yhb18174/.conda/envs/phd_env/lib/python3.9/site-packages/sklearn/base.py:486: UserWarning: X has feature names, but RandomForestRegressor was fitted without feature names\n",
      "  warnings.warn(\n",
      "/users/yhb18174/.conda/envs/phd_env/lib/python3.9/site-packages/sklearn/base.py:486: UserWarning: X has feature names, but RandomForestRegressor was fitted without feature names\n",
      "  warnings.warn(\n",
      "/users/yhb18174/.conda/envs/phd_env/lib/python3.9/site-packages/sklearn/base.py:486: UserWarning: X has feature names, but RandomForestRegressor was fitted without feature names\n",
      "  warnings.warn(\n"
     ]
    },
    {
     "name": "stdout",
     "output_type": "stream",
     "text": [
      "Performing resample 32\n",
      "Performing resample 48\n",
      "Performing resample 50\n"
     ]
    },
    {
     "name": "stderr",
     "output_type": "stream",
     "text": [
      "/users/yhb18174/.conda/envs/phd_env/lib/python3.9/site-packages/sklearn/base.py:486: UserWarning: X has feature names, but RandomForestRegressor was fitted without feature names\n",
      "  warnings.warn(\n",
      "/users/yhb18174/.conda/envs/phd_env/lib/python3.9/site-packages/sklearn/base.py:486: UserWarning: X has feature names, but RandomForestRegressor was fitted without feature names\n",
      "  warnings.warn(\n",
      "/users/yhb18174/.conda/envs/phd_env/lib/python3.9/site-packages/sklearn/base.py:486: UserWarning: X has feature names, but RandomForestRegressor was fitted without feature names\n",
      "  warnings.warn(\n",
      "/users/yhb18174/.conda/envs/phd_env/lib/python3.9/site-packages/sklearn/base.py:486: UserWarning: X has feature names, but RandomForestRegressor was fitted without feature names\n",
      "  warnings.warn(\n",
      "/users/yhb18174/.conda/envs/phd_env/lib/python3.9/site-packages/sklearn/base.py:486: UserWarning: X has feature names, but RandomForestRegressor was fitted without feature names\n",
      "  warnings.warn(\n",
      "/users/yhb18174/.conda/envs/phd_env/lib/python3.9/site-packages/sklearn/base.py:486: UserWarning: X has feature names, but RandomForestRegressor was fitted without feature names\n",
      "  warnings.warn(\n",
      "/users/yhb18174/.conda/envs/phd_env/lib/python3.9/site-packages/sklearn/base.py:486: UserWarning: X has feature names, but RandomForestRegressor was fitted without feature names\n",
      "  warnings.warn(\n",
      "/users/yhb18174/.conda/envs/phd_env/lib/python3.9/site-packages/sklearn/base.py:486: UserWarning: X has feature names, but RandomForestRegressor was fitted without feature names\n",
      "  warnings.warn(\n"
     ]
    },
    {
     "name": "stdout",
     "output_type": "stream",
     "text": [
      "Plotting feature importance\n",
      "Saving final model to:\n",
      "/users/yhb18174/Recreating_DMTA/results/test/test_13/it1_running//final_model.pkl\n",
      "\n",
      "+=========== Iteration Completed: 1 ===========+\n",
      "Iteration Run Time: 893.0\n",
      "Average Iteration Run Time: 0\n",
      "\n",
      "+===========Iteration: 2===========+\n",
      "\n",
      "+-----------+----------+\n",
      "|     ID    | batch_no |\n",
      "+-----------+----------+\n",
      "| PMG-34562 |    1     |\n",
      "| PMG-17586 |    1     |\n",
      "| PMG-62806 |    1     |\n",
      "| PMG-64300 |    1     |\n",
      "|  PMG-6509 |    1     |\n",
      "| PMG-97753 |    1     |\n",
      "| PMG-89650 |    1     |\n",
      "| PMG-84839 |    1     |\n",
      "| PMG-21050 |    1     |\n",
      "| PMG-57064 |    1     |\n",
      "+-----------+----------+\n",
      "+----------- Docking Batch 1 IDs -----------+\n",
      "\n",
      "/users/yhb18174/Recreating_DMTA/datasets/test_data/PMG_docking_1.csv\n",
      "Status of IDs in batch:\n",
      "ID\n",
      "PMG-34562    7.814\n",
      "PMG-17586      NaN\n",
      "PMG-62806      NaN\n",
      "PMG-64300      NaN\n",
      "PMG-6509       NaN\n",
      "PMG-97753      NaN\n",
      "PMG-89650      NaN\n",
      "PMG-84839      NaN\n",
      "PMG-21050      NaN\n",
      "PMG-57064    7.544\n",
      "Name: CNN_affinity, dtype: float64\n",
      "File PMG_docking_1.dock renamed back to PMG_docking_1\n",
      "Random Seed:ompounds: PMG-17586, PMG-62806, PMG-64300, PMG-6509, PMG-97753, PMG-89650, PMG-84839, PMG-21050\n",
      "1048957263\n",
      "/users/yhb18174/Recreating_DMTA/datasets/test_data/PMG-6509/ exists\n"
     ]
    },
    {
     "name": "stderr",
     "output_type": "stream",
     "text": [
      "Warning: This force field is incompatible with GPU-Omega: GPU-Omega disabled.\n",
      "To run on the GPU with dense mode set the force field to mmff94smod_NoEstat.\n",
      "Warning: This force field is incompatible with GPU-Omega: GPU-Omega disabled.\n",
      "To run on the GPU with dense mode set the force field to mmff94smod_NoEstat.\n",
      "Warning: OEMMFFParams::PrepMol() : unable to type atom 64 H \n",
      "Warning: This force field is incompatible with GPU-Omega: GPU-Omega disabled.\n",
      "To run on the GPU with dense mode set the force field to mmff94smod_NoEstat.\n",
      "Warning: This force field is incompatible with GPU-Omega: GPU-Omega disabled.\n",
      "To run on the GPU with dense mode set the force field to mmff94smod_NoEstat.\n",
      "Warning: This force field is incompatible with GPU-Omega: GPU-Omega disabled.\n",
      "To run on the GPU with dense mode set the force field to mmff94smod_NoEstat.\n",
      "Warning: This force field is incompatible with GPU-Omega: GPU-Omega disabled.\n",
      "To run on the GPU with dense mode set the force field to mmff94smod_NoEstat.\n",
      "Warning: This force field is incompatible with GPU-Omega: GPU-Omega disabled.\n",
      "To run on the GPU with dense mode set the force field to mmff94smod_NoEstat.\n",
      "Warning: This force field is incompatible with GPU-Omega: GPU-Omega disabled.\n",
      "To run on the GPU with dense mode set the force field to mmff94smod_NoEstat.\n"
     ]
    },
    {
     "name": "stdout",
     "output_type": "stream",
     "text": [
      "Waiting for the following jobs to complete: 11340347, 11340345, 11340349, 11340348, 11340343, 11340350, 11340346, 11340346"
     ]
    },
    {
     "ename": "KeyboardInterrupt",
     "evalue": "",
     "output_type": "error",
     "traceback": [
      "\u001b[0;31m---------------------------------------------------------------------------\u001b[0m",
      "\u001b[0;31mKeyboardInterrupt\u001b[0m                         Traceback (most recent call last)",
      "\u001b[1;32m/users/yhb18174/Recreating_DMTA/scripts/run/run_testing.ipynb Cell 4\u001b[0m line \u001b[0;36m1\n\u001b[0;32m----> <a href='vscode-notebook-cell:/users/yhb18174/Recreating_DMTA/scripts/run/run_testing.ipynb#X52sZmlsZQ%3D%3D?line=0'>1</a>\u001b[0m r \u001b[39m=\u001b[39m run\u001b[39m.\u001b[39;49mRunIterations()\n",
      "File \u001b[0;32m~/Recreating_DMTA/scripts/run/workflow_class.py:538\u001b[0m, in \u001b[0;36mRecDMTA.RunIterations\u001b[0;34m(self)\u001b[0m\n\u001b[1;32m    533\u001b[0m     \u001b[39mself\u001b[39m\u001b[39m.\u001b[39mprev_it_dir \u001b[39m=\u001b[39m \u001b[39mself\u001b[39m\u001b[39m.\u001b[39mrun_dir \u001b[39m+\u001b[39m \u001b[39m\"\u001b[39m\u001b[39mit\u001b[39m\u001b[39m\"\u001b[39m \u001b[39m+\u001b[39m \u001b[39mstr\u001b[39m(\u001b[39mself\u001b[39m\u001b[39m.\u001b[39miter\u001b[39m-\u001b[39m\u001b[39m1\u001b[39m) \u001b[39m+\u001b[39m \u001b[39m'\u001b[39m\u001b[39m/\u001b[39m\u001b[39m'\u001b[39m                   \n\u001b[1;32m    535\u001b[0m \u001b[39mself\u001b[39m\u001b[39m.\u001b[39mSelectCmpds(iteration\u001b[39m=\u001b[39m\u001b[39mself\u001b[39m\u001b[39m.\u001b[39miter,\n\u001b[1;32m    536\u001b[0m                  prev_it_dir\u001b[39m=\u001b[39m\u001b[39mself\u001b[39m\u001b[39m.\u001b[39mprev_it_dir)\n\u001b[0;32m--> 538\u001b[0m \u001b[39mself\u001b[39;49m\u001b[39m.\u001b[39;49mRunDocking()\n\u001b[1;32m    540\u001b[0m \u001b[39mself\u001b[39m\u001b[39m.\u001b[39mUpdateTrainingSet()\n\u001b[1;32m    542\u001b[0m \u001b[39mself\u001b[39m\u001b[39m.\u001b[39mRetrainAndPredict()\n",
      "File \u001b[0;32m~/Recreating_DMTA/scripts/run/workflow_class.py:341\u001b[0m, in \u001b[0;36mRecDMTA.RunDocking\u001b[0;34m(self)\u001b[0m\n\u001b[1;32m    338\u001b[0m     docker\u001b[39m.\u001b[39mProcessMols(use_multiprocessing\u001b[39m=\u001b[39m\u001b[39mTrue\u001b[39;00m)\n\u001b[1;32m    340\u001b[0m \u001b[39m# Docking the molecules and saving scores in for_docking\u001b[39;00m\n\u001b[0;32m--> 341\u001b[0m     dock_scores_ls \u001b[39m=\u001b[39m docker\u001b[39m.\u001b[39;49mSubmitJobs(max_time\u001b[39m=\u001b[39;49m\u001b[39m1\u001b[39;49m)\n\u001b[1;32m    342\u001b[0m     for_docking[\u001b[39mself\u001b[39m\u001b[39m.\u001b[39mdocking_column] \u001b[39m=\u001b[39m dock_scores_ls[\u001b[39m1\u001b[39m]\n\u001b[1;32m    344\u001b[0m     da\u001b[39m.\u001b[39mget_exclusive_access()\n",
      "File \u001b[0;32m~/Recreating_DMTA/scripts/docking/docking_fns.py:593\u001b[0m, in \u001b[0;36mRun_GNINA.SubmitJobs\u001b[0;34m(self, max_time, username)\u001b[0m\n\u001b[1;32m    590\u001b[0m     job_message \u001b[39m=\u001b[39m \u001b[39mf\u001b[39m\u001b[39m\"\u001b[39m\u001b[39mWaiting for \u001b[39m\u001b[39m{\u001b[39;00m\u001b[39mlen\u001b[39m(dock_jobs)\u001b[39m}\u001b[39;00m\u001b[39m jobs to finish\u001b[39m\u001b[39m\"\u001b[39m\n\u001b[1;32m    592\u001b[0m \u001b[39mprint\u001b[39m(\u001b[39mf\u001b[39m\u001b[39m\"\u001b[39m\u001b[39m\\r\u001b[39;00m\u001b[39m{\u001b[39;00mjob_message\u001b[39m.\u001b[39mljust(\u001b[39m80\u001b[39m)\u001b[39m}\u001b[39;00m\u001b[39m\"\u001b[39m, end\u001b[39m=\u001b[39m\u001b[39m\"\u001b[39m\u001b[39m\"\u001b[39m)\n\u001b[0;32m--> 593\u001b[0m time\u001b[39m.\u001b[39;49msleep(\u001b[39m20\u001b[39;49m)\n",
      "\u001b[0;31mKeyboardInterrupt\u001b[0m: "
     ]
    },
    {
     "data": {
      "image/png": "[encoded data removed]",
      "text/plain": [
       "<Figure size 1000x800 with 1 Axes>"
      ]
     },
     "metadata": {},
     "output_type": "display_data"
    }
   ],
   "source": [
    "r = run.RunIterations()"
   ]
  },
  {
   "cell_type": "code",
   "execution_count": 18,
   "id": "9f2eae88",
   "metadata": {},
   "outputs": [
    {
     "ename": "AttributeError",
     "evalue": "'RecDMTA' object has no attribute 'updated_feats'",
     "output_type": "error",
     "traceback": [
      "\u001b[0;31m---------------------------------------------------------------------------\u001b[0m",
      "\u001b[0;31mAttributeError\u001b[0m                            Traceback (most recent call last)",
      "\u001b[1;32m/users/yhb18174/Recreating_DMTA/scripts/run/run_testing.ipynb Cell 5\u001b[0m line \u001b[0;36m2\n\u001b[1;32m      <a href='vscode-notebook-cell:/users/yhb18174/Recreating_DMTA/scripts/run/run_testing.ipynb#X62sZmlsZQ%3D%3D?line=0'>1</a>\u001b[0m hp \u001b[39m=\u001b[39m run\u001b[39m.\u001b[39mhyper_params\n\u001b[0;32m----> <a href='vscode-notebook-cell:/users/yhb18174/Recreating_DMTA/scripts/run/run_testing.ipynb#X62sZmlsZQ%3D%3D?line=1'>2</a>\u001b[0m feats \u001b[39m=\u001b[39m run\u001b[39m.\u001b[39;49mupdated_feats\n\u001b[1;32m      <a href='vscode-notebook-cell:/users/yhb18174/Recreating_DMTA/scripts/run/run_testing.ipynb#X62sZmlsZQ%3D%3D?line=2'>3</a>\u001b[0m targs \u001b[39m=\u001b[39m run\u001b[39m.\u001b[39mupdated_targs\n\u001b[1;32m      <a href='vscode-notebook-cell:/users/yhb18174/Recreating_DMTA/scripts/run/run_testing.ipynb#X62sZmlsZQ%3D%3D?line=3'>4</a>\u001b[0m path \u001b[39m=\u001b[39m \u001b[39m\"\u001b[39m\u001b[39m/users/yhb18174/\u001b[39m\u001b[39m\"\u001b[39m\n",
      "\u001b[0;31mAttributeError\u001b[0m: 'RecDMTA' object has no attribute 'updated_feats'"
     ]
    }
   ],
   "source": [
    "hp = run.hyper_params\n",
    "feats = run.updated_feats\n",
    "targs = run.updated_targs\n",
    "path = \"/users/yhb18174/\"\n",
    "save_final_model=False,\n",
    "parallelise=True,\n",
    "plot_feat_importance=False\n",
    "\n",
    "model = RF_model()\n",
    "\n",
    "model.Train_Regressor(search_type='grid',\n",
    "                      hyper_params=hp,\n",
    "                      features=feats,\n",
    "                      targets=targs,\n",
    "                      save_path=path,\n",
    "                      save_final_model=False,\n",
    "                      parallelise=True,\n",
    "                      plot_feat_importance=False)\n",
    "\n",
    "model._check_for_data"
   ]
  },
  {
   "cell_type": "code",
   "execution_count": 33,
   "id": "9888c7c8",
   "metadata": {},
   "outputs": [
    {
     "ename": "NameError",
     "evalue": "name 'c' is not defined",
     "output_type": "error",
     "traceback": [
      "\u001b[0;31m---------------------------------------------------------------------------\u001b[0m",
      "\u001b[0;31mNameError\u001b[0m                                 Traceback (most recent call last)",
      "\u001b[1;32m/users/yhb18174/Recreating_DMTA/scripts/run/run_testing.ipynb Cell 7\u001b[0m line \u001b[0;36m3\n\u001b[1;32m      <a href='vscode-notebook-cell:/users/yhb18174/Recreating_DMTA/scripts/run/run_testing.ipynb#X64sZmlsZQ%3D%3D?line=0'>1</a>\u001b[0m n\u001b[39m=\u001b[39m\u001b[39m3\u001b[39m\n\u001b[0;32m----> <a href='vscode-notebook-cell:/users/yhb18174/Recreating_DMTA/scripts/run/run_testing.ipynb#X64sZmlsZQ%3D%3D?line=2'>3</a>\u001b[0m stats \u001b[39m=\u001b[39m c\n\u001b[1;32m      <a href='vscode-notebook-cell:/users/yhb18174/Recreating_DMTA/scripts/run/run_testing.ipynb#X64sZmlsZQ%3D%3D?line=3'>4</a>\u001b[0m targ \u001b[39m=\u001b[39m e[n]\n\u001b[1;32m      <a href='vscode-notebook-cell:/users/yhb18174/Recreating_DMTA/scripts/run/run_testing.ipynb#X64sZmlsZQ%3D%3D?line=4'>5</a>\u001b[0m pred \u001b[39m=\u001b[39m f[n]\n",
      "\u001b[0;31mNameError\u001b[0m: name 'c' is not defined"
     ]
    }
   ],
   "source": [
    "n=3\n",
    "\n",
    "stats = c\n",
    "targ = e[n]\n",
    "pred = f[n]\n",
    "\n",
    "\n",
    "import matplotlib.pyplot as plt\n",
    "import numpy as np\n",
    "plt.scatter(targ, pred)\n",
    "# Set equal scaling for both axes\n",
    "plt.axis('equal')\n",
    "\n",
    "# Add x=y line\n",
    "min_val = min(np.min(targ), np.min(pred))\n",
    "max_val = max(np.max(targ), np.max(pred))\n",
    "plt.plot([min_val, max_val], [min_val, max_val], 'r--', label='y=x')\n",
    "\n",
    "# Fit a linear model (gradient and intercept)\n",
    "gradient, intercept = np.polyfit(targ, pred, 1)\n",
    "\n",
    "# Generate y-values of the trendline\n",
    "trendline = gradient * targ + intercept\n",
    "\n",
    "# Plot the trendline\n",
    "plt.plot(targ, trendline, 'y--', label=f'Trendline: y={gradient:.2f}x+{intercept:.2f}')\n",
    "\n",
    "plt.show()\n"
   ]
  },
  {
   "cell_type": "code",
   "execution_count": 9,
   "id": "a9175bd5",
   "metadata": {},
   "outputs": [
    {
     "name": "stdout",
     "output_type": "stream",
     "text": [
      "+-----------+----------+\n",
      "|     ID    | batch_no |\n",
      "+-----------+----------+\n",
      "| PMG-78491 |    1     |\n",
      "| PMG-87768 |    1     |\n",
      "| PMG-47379 |    1     |\n",
      "| PMG-33071 |    1     |\n",
      "| PMG-44082 |    1     |\n",
      "| PMG-30903 |    1     |\n",
      "| PMG-60663 |    1     |\n",
      "| PMG-16458 |    1     |\n",
      "| PMG-57568 |    1     |\n",
      "| PMG-77748 |    1     |\n",
      "+-----------+----------+\n"
     ]
    }
   ],
   "source": [
    "sel_df = run.SelectCmpds(iteration=1, prev_it_dir=run.prev_it_dir)\n",
    "sel_idx = sel_df.index.tolist()"
   ]
  },
  {
   "cell_type": "code",
   "execution_count": 10,
   "id": "f4f78c65",
   "metadata": {},
   "outputs": [
    {
     "name": "stdout",
     "output_type": "stream",
     "text": [
      "+----------- Docking Batch 1 IDs -----------+\n",
      "\n",
      "/users/yhb18174/Recreating_DMTA/datasets/test_data/PMG_docking_1.csv\n",
      "Status of IDs in batch:\n",
      "ID\n",
      "PMG-78491    6.465\n",
      "PMG-87768    6.334\n",
      "PMG-47379    4.532\n",
      "PMG-33071    5.687\n",
      "PMG-44082    7.371\n",
      "PMG-30903    6.908\n",
      "PMG-60663    6.927\n",
      "PMG-16458    7.239\n",
      "PMG-57568    7.319\n",
      "PMG-77748      6.5\n",
      "Name: CNN_affinity, dtype: object\n",
      "File PMG_docking_1.dock renamed back to PMG_docking_1\n",
      "Random Seed:ompounds: \n",
      "2034003255\n",
      "All docking done\n",
      "File PMG_docking_1.dock renamed back to PMG_docking_1\n",
      "All docking scores present\n"
     ]
    }
   ],
   "source": [
    "dock = run.RunDocking()"
   ]
  }
 ],
 "metadata": {
  "kernelspec": {
   "display_name": "PP",
   "language": "python",
   "name": "python3"
  },
  "language_info": {
   "codemirror_mode": {
    "name": "ipython",
    "version": 3
   },
   "file_extension": ".py",
   "mimetype": "text/x-python",
   "name": "python",
   "nbconvert_exporter": "python",
   "pygments_lexer": "ipython3",
   "version": "3.9.7"
  }
 },
 "nbformat": 4,
 "nbformat_minor": 5
}
