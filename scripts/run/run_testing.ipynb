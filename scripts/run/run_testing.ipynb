{
 "cells": [
  {
   "cell_type": "code",
   "execution_count": 1,
   "id": "2825fa7c",
   "metadata": {},
   "outputs": [
    {
     "name": "stdout",
     "output_type": "stream",
     "text": [
      "/users/yhb18174/Recreating_DMTA/scripts/run/\n",
      "/users/yhb18174/Recreating_DMTA/\n"
     ]
    }
   ],
   "source": [
    "import pandas as pd\n",
    "import multiprocessing as mp\n",
    "import numpy as np\n",
    "import pickle as pk\n",
    "from pathlib import Path\n",
    "import sys\n",
    "import time\n",
    "from datetime import datetime\n",
    "import fcntl\n",
    "\n",
    "FILE_DIR = str(Path.cwd()) +'/'   #str(Path(__file__).parent)\n",
    "print(FILE_DIR)\n",
    "PROJ_DIR = str(Path.cwd().parent.parent) +'/'\n",
    "print(PROJ_DIR)\n",
    "\n",
    "# Inserting paths to relevant functions\n",
    "# Models\n",
    "sys.path.insert(0, PROJ_DIR + '/scripts/models/')\n",
    "# Docking\n",
    "sys.path.insert(0, PROJ_DIR + '/scripts/docking/')\n",
    "# Dataset\n",
    "sys.path.insert(0, PROJ_DIR + '/scripts/dataset/')\n",
    "# Molecule Selection\n",
    "sys.path.insert(0, PROJ_DIR + '/scripts/mol_sel/')\n",
    "# Misc\n",
    "sys.path.insert(0, PROJ_DIR + '/scripts/misc/')\n",
    "\n",
    "from RF_class import RF_model\n",
    "from misc_functions import molid2batchno\n",
    "from dataset_fns import Dataset_Accessor"
   ]
  },
  {
   "cell_type": "code",
   "execution_count": 10,
   "id": "f3452b1a",
   "metadata": {},
   "outputs": [],
   "source": [
    "# Setting initial values\n",
    "start_iter = 1\n",
    "total_iters = 2\n",
    "n_batches = 75\n",
    "n_cpus = 1\n",
    "max_sec_it = 60*60*4\n",
    "n_cmpds = 10\n",
    "mol_prefix = 'HW-'\n",
    "rdkit_or_mordred = 'rdkit'\n",
    "\n",
    "# Setting selection method\n",
    "sel_meth = 'r'\n",
    "dataset_file = ''\n",
    "desc_file = ''\n",
    "docking_score_file = ''\n",
    "\n",
    "# Directories (must end in '/')\n",
    "docking_dir = PROJ_DIR + '/test_dir/'\n",
    "results_dir = PROJ_DIR + '/test_dir/'\n",
    "run_dir = PROJ_DIR + '/test_dir/'\n",
    "init_model_dir = run_dir + 'init_RF_model/it0/'"
   ]
  },
  {
   "cell_type": "code",
   "execution_count": 11,
   "id": "f7ae8e66",
   "metadata": {},
   "outputs": [
    {
     "name": "stdout",
     "output_type": "stream",
     "text": [
      "Running with 1 CPUs\n",
      "\n",
      "+===========Iteration: 1===========+\n",
      "\n",
      "+===========Iteration: 2===========+\n"
     ]
    }
   ],
   "source": [
    "# ============== #\n",
    "# Run iterations #\n",
    "# ============== #\n",
    "if n_cpus == -1:\n",
    "    n_cpus = mp.cpu_count()\n",
    "print(f'Running with {n_cpus} CPUs')\n",
    "\n",
    "\n",
    "# Start iterations loop\n",
    "for iter in range(start_iter, start_iter+total_iters):\n",
    "    it_start_time= datetime.now()\n",
    "    print(f'\\n+===========Iteration: {iter}===========+')\n",
    "\n",
    "    it_dir= run_dir+'it'+str(iter)+'_running/'\n",
    "\n",
    "    if iter-1 == 0:\n",
    "        prev_it_dir = init_model_dir\n",
    "    else:\n",
    "        prev_it_dir= run_dir+'it'+str(iter-1)+'/'\n",
    "\n",
    "    dir=Path(it_dir)\n",
    "\n",
    "    if not dir.exists():\n",
    "        dir.mkdir()"
   ]
  },
  {
   "cell_type": "code",
   "execution_count": 12,
   "id": "2f58576d",
   "metadata": {},
   "outputs": [
    {
     "name": "stdout",
     "output_type": "stream",
     "text": [
      "- Selecting next set of compounds...\n",
      "random\n"
     ]
    }
   ],
   "source": [
    "# ---------------------------- #\n",
    "# Select next set of compounds #\n",
    "# ---------------------------- #\n",
    "print('- Selecting next set of compounds...')\n",
    "\n",
    "if sel_meth == 'r':\n",
    "    sel_idx = ''\n",
    "    print('random')\n",
    "\n",
    "elif sel_meth == 'mp':\n",
    "    sel_idx = ''\n",
    "    print('most potent')\n",
    "\n",
    "elif sel_meth == 'mu':\n",
    "    sel_idx = ''\n",
    "    print('most uncertain')\n",
    "\n",
    "elif sel_meth == 'mpo':\n",
    "    sel_idx = ''\n",
    "    print('most mpo')\n",
    "\n",
    "elif sel_meth == 'rmp':\n",
    "    sel_idx = ''\n",
    "    print('random most potent')\n",
    "\n",
    "elif sel_meth == 'rmpo':\n",
    "    sel_idx = ''\n",
    "    print('random most mpo')"
   ]
  },
  {
   "cell_type": "code",
   "execution_count": 19,
   "id": "71cd0019",
   "metadata": {},
   "outputs": [],
   "source": [
    "sel_idx=['1' ,'2','3','4','5']"
   ]
  },
  {
   "cell_type": "code",
   "execution_count": 20,
   "id": "9ecd427e",
   "metadata": {},
   "outputs": [],
   "source": [
    "df_select = pd.DataFrame(data=[], columns=[], index=sel_idx)\n",
    "df_select.index.rename('ID', inplace=True)\n",
    "df_select['batch_no'] = [molid2batchno(molid,\n",
    "                                       prefix='',\n",
    "                                       dataset_file=PROJ_DIR+'/datasets/ChEMBL/test_data/ChEMBL_test_chunks*.csv.gz') for molid in df_select.index]\n"
   ]
  },
  {
   "cell_type": "code",
   "execution_count": 23,
   "id": "761fcc45",
   "metadata": {},
   "outputs": [
    {
     "name": "stdout",
     "output_type": "stream",
     "text": [
      "- Running docking if required...\n",
      "                ID\t  Docking score\t   (Time taken)\n",
      "  ----------------\t---------------\t --------------\n"
     ]
    }
   ],
   "source": [
    "start_t = datetime.now()\n",
    "print('- Running docking if required...')\n",
    "print('  {:>16s}\\t{:>15s}\\t{:>15s}'.format('ID', 'Docking score', '(Time taken)'))\n",
    "print('  {:>16s}\\t{:>15s}\\t{:>15s}'.format('----------------', '---------------', '--------------'))"
   ]
  }
 ],
 "metadata": {
  "kernelspec": {
   "display_name": "PP",
   "language": "python",
   "name": "python3"
  },
  "language_info": {
   "codemirror_mode": {
    "name": "ipython",
    "version": 3
   },
   "file_extension": ".py",
   "mimetype": "text/x-python",
   "name": "python",
   "nbconvert_exporter": "python",
   "pygments_lexer": "ipython3",
   "version": "3.9.7"
  }
 },
 "nbformat": 4,
 "nbformat_minor": 5
}
